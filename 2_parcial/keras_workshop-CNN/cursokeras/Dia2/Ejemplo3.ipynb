{
 "cells": [
  {
   "cell_type": "markdown",
   "metadata": {},
   "source": [
    "# <center> Taller Keras $-$ Ejemplo 3"
   ]
  },
  {
   "cell_type": "code",
   "execution_count": 9,
   "metadata": {
    "slideshow": {
     "slide_type": "-"
    }
   },
   "outputs": [],
   "source": [
    "import numpy as np\n",
    "import matplotlib.pyplot as plt\n",
    "from time import time\n",
    "\n",
    "from keras import models\n",
    "from keras import layers\n",
    "from tensorflow.keras import optimizers\n",
    "from tensorflow.keras.utils import to_categorical\n",
    "\n",
    "from pandas import DataFrame\n",
    "from pandas_ml import ConfusionMatrix\n",
    "from plotmatrix import pretty_plot_confusion_matrix, PlotMatrix"
   ]
  },
  {
   "cell_type": "markdown",
   "metadata": {},
   "source": [
    "# Introducción a las Redes Neuronales (NNs)"
   ]
  },
  {
   "cell_type": "markdown",
   "metadata": {},
   "source": [
    "__Objetivos:__\n",
    "* Entender el concepto de Dropout y su importancia en Deep Learning.\n",
    "* Implementar una NN con Dropout en Keras para clasificar la base de datos MNIST."
   ]
  },
  {
   "cell_type": "code",
   "execution_count": 5,
   "metadata": {},
   "outputs": [],
   "source": [
    "# cargar la interfaz a la base de datos que viene con Keras\n",
    "from keras.datasets import mnist\n",
    "\n",
    "# lectura de los datos\n",
    "(train_images, train_labels), (test_images, test_labels) = mnist.load_data()\n",
    "\n",
    "# pre-procesamiento de los datos\n",
    "train_images = train_images.reshape((60000, -1))\n",
    "train_images = train_images.astype('float32') / 255\n",
    "\n",
    "test_images = test_images.reshape((10000, -1))\n",
    "test_images = test_images.astype('float32') / 255\n",
    "\n",
    "data_shape = train_images.shape[1:]\n",
    "\n",
    "# one-hot encoding\n",
    "from tensorflow.keras.utils import to_categorical\n",
    "train_labels = to_categorical(train_labels)\n",
    "test_labels  = to_categorical(test_labels)"
   ]
  },
  {
   "cell_type": "markdown",
   "metadata": {},
   "source": [
    "## Dropout"
   ]
  },
  {
   "cell_type": "markdown",
   "metadata": {},
   "source": [
    "Dropout es una técnica que sirve para regularizar el entrenamiento de una red neuronal. Fue introducida por Srivastava, Hinton, Krizhevsky, Sutskever y Salakhutdinov en 2014.\n",
    "\n",
    "Se utiliza en la práctica para reducir el sobre-entrenamiento (_overfitting_) de la red, es decir, reducir la diferencia entre el error de entrenamiento y el error de validación/prueba.\n",
    "\n",
    "La técnica consiste en que, durante cada batch, se eliminan un cierto porcentaje de neuronas, seleccionadas aleatoriamente, de la capa donde se aplica el Dropout. Esto permite que el entrenamiento no depende fuertemente de neuronas específicas, y que los pesos se distribuyen más adecuadamente dentro de las neuronas que sobreviven al drop-out.\n",
    "\n",
    "Al entrenar el siguiente batch, la totalidad de neuronas se repobla completamente y se hace una nueva selección aleatoria de neuronas a eliminar."
   ]
  },
  {
   "cell_type": "markdown",
   "metadata": {},
   "source": [
    "![](dropout.png)"
   ]
  },
  {
   "cell_type": "markdown",
   "metadata": {},
   "source": [
    "A continuación definimeros una red neuronal de 4 capas ocultas, intercalando entre cada una, una capa de Dropout.\n",
    "\n",
    "El parámetro en una capa Dropout es:\n",
    "\n",
    "__rate:__ Porcentaje ($0 \\leq rate < 1$) de neuronas a eliminar aleatoriamente.\n",
    "\n",
    "Así, si se quieren eliminar el 40% de las neuronas, en Keras se agrega la capa\n",
    "\n",
    "    layers.Dropout(rate=0.4, name='name')"
   ]
  },
  {
   "cell_type": "markdown",
   "metadata": {},
   "source": [
    "__Ejercicio:__ En la siguiente red, adicione 4 capas Dropout, una después de cada capa densa oculta. Utilice una tasa de eliminación del 25% en cada una. (Asegúrese que los nombres de las capas sean distintos)."
   ]
  },
  {
   "cell_type": "code",
   "execution_count": 6,
   "metadata": {},
   "outputs": [],
   "source": [
    "### START CODE HERE ### (≈ 4 lines of code)\n",
    "network3 = models.Sequential()\n",
    "network3.add(layers.Dense(512, activation='relu', input_shape=data_shape, name='dense1'))\n",
    "\n",
    "network3.add(layers.Dense(512, activation='relu', name='dense2'))\n",
    "\n",
    "network3.add(layers.Dense(256, activation='relu', name='dense3'))\n",
    "\n",
    "network3.add(layers.Dense(128, activation='relu', name='dense4'))\n",
    "\n",
    "network3.add(layers.Dense(10, activation='softmax', name='classifier'))\n",
    "### END CODE HERE ###"
   ]
  },
  {
   "cell_type": "code",
   "execution_count": 7,
   "metadata": {},
   "outputs": [
    {
     "name": "stdout",
     "output_type": "stream",
     "text": [
      "Model: \"sequential\"\n",
      "_________________________________________________________________\n",
      "Layer (type)                 Output Shape              Param #   \n",
      "=================================================================\n",
      "dense1 (Dense)               (None, 512)               401920    \n",
      "_________________________________________________________________\n",
      "dense2 (Dense)               (None, 512)               262656    \n",
      "_________________________________________________________________\n",
      "dense3 (Dense)               (None, 256)               131328    \n",
      "_________________________________________________________________\n",
      "dense4 (Dense)               (None, 128)               32896     \n",
      "_________________________________________________________________\n",
      "classifier (Dense)           (None, 10)                1290      \n",
      "=================================================================\n",
      "Total params: 830,090\n",
      "Trainable params: 830,090\n",
      "Non-trainable params: 0\n",
      "_________________________________________________________________\n"
     ]
    }
   ],
   "source": [
    "network3.summary()"
   ]
  },
  {
   "cell_type": "code",
   "execution_count": 10,
   "metadata": {},
   "outputs": [
    {
     "name": "stderr",
     "output_type": "stream",
     "text": [
      "c:\\Users\\juanq\\anaconda3\\envs\\keras\\lib\\site-packages\\keras\\optimizer_v2\\optimizer_v2.py:356: UserWarning: The `lr` argument is deprecated, use `learning_rate` instead.\n",
      "  \"The `lr` argument is deprecated, use `learning_rate` instead.\")\n"
     ]
    }
   ],
   "source": [
    "opt = optimizers.RMSprop(lr=0.001)\n",
    "network3.compile(optimizer=opt, loss='categorical_crossentropy', metrics=['accuracy'])"
   ]
  },
  {
   "cell_type": "code",
   "execution_count": 11,
   "metadata": {},
   "outputs": [
    {
     "name": "stdout",
     "output_type": "stream",
     "text": [
      "Epoch 1/15\n",
      "782/782 [==============================] - 9s 10ms/step - loss: 0.2468 - accuracy: 0.9252 - val_loss: 0.1493 - val_accuracy: 0.9565\n",
      "Epoch 2/15\n",
      "782/782 [==============================] - 9s 11ms/step - loss: 0.1079 - accuracy: 0.9690 - val_loss: 0.1198 - val_accuracy: 0.9679\n",
      "Epoch 3/15\n",
      "782/782 [==============================] - 12s 15ms/step - loss: 0.0837 - accuracy: 0.9779 - val_loss: 0.1154 - val_accuracy: 0.9723\n",
      "Epoch 4/15\n",
      "782/782 [==============================] - 14s 18ms/step - loss: 0.0708 - accuracy: 0.9816 - val_loss: 0.2029 - val_accuracy: 0.9629\n",
      "Epoch 5/15\n",
      "782/782 [==============================] - 15s 19ms/step - loss: 0.0639 - accuracy: 0.9843 - val_loss: 0.1316 - val_accuracy: 0.9748\n",
      "Epoch 6/15\n",
      "782/782 [==============================] - 15s 19ms/step - loss: 0.0608 - accuracy: 0.9863 - val_loss: 0.1734 - val_accuracy: 0.9725\n",
      "Epoch 7/15\n",
      "782/782 [==============================] - 15s 19ms/step - loss: 0.0533 - accuracy: 0.9877 - val_loss: 0.1871 - val_accuracy: 0.9775\n",
      "Epoch 8/15\n",
      "782/782 [==============================] - 14s 17ms/step - loss: 0.0541 - accuracy: 0.9887 - val_loss: 0.1482 - val_accuracy: 0.9775\n",
      "Epoch 9/15\n",
      "782/782 [==============================] - 19s 25ms/step - loss: 0.0493 - accuracy: 0.9899 - val_loss: 0.3340 - val_accuracy: 0.9627\n",
      "Epoch 10/15\n",
      "782/782 [==============================] - 14s 18ms/step - loss: 0.0474 - accuracy: 0.9905 - val_loss: 0.2148 - val_accuracy: 0.9758\n",
      "Epoch 11/15\n",
      "782/782 [==============================] - 15s 19ms/step - loss: 0.0456 - accuracy: 0.9904 - val_loss: 0.2369 - val_accuracy: 0.9759\n",
      "Epoch 12/15\n",
      "782/782 [==============================] - 16s 21ms/step - loss: 0.0434 - accuracy: 0.9918 - val_loss: 0.1984 - val_accuracy: 0.9768\n",
      "Epoch 13/15\n",
      "782/782 [==============================] - 15s 20ms/step - loss: 0.0427 - accuracy: 0.9925 - val_loss: 0.2707 - val_accuracy: 0.9776\n",
      "Epoch 14/15\n",
      "782/782 [==============================] - 18s 23ms/step - loss: 0.0416 - accuracy: 0.9924 - val_loss: 0.3143 - val_accuracy: 0.9791\n",
      "Epoch 15/15\n",
      "782/782 [==============================] - 15s 19ms/step - loss: 0.0415 - accuracy: 0.9928 - val_loss: 0.3705 - val_accuracy: 0.9781\n",
      "total training time: 215.22489976882935 seconds\n"
     ]
    }
   ],
   "source": [
    "tic = time()\n",
    "history3 = network3.fit(train_images, train_labels, epochs=15, batch_size=64, validation_split=0.16666)\n",
    "print('total training time:', time()-tic, 'seconds')"
   ]
  },
  {
   "cell_type": "code",
   "execution_count": 12,
   "metadata": {},
   "outputs": [
    {
     "name": "stdout",
     "output_type": "stream",
     "text": [
      "313/313 [==============================] - 2s 6ms/step - loss: 0.2632 - accuracy: 0.9799\n",
      "results loss: 0.26316872239112854\n",
      "results accuracy: 0.9799000024795532\n"
     ]
    }
   ],
   "source": [
    "results3 = network3.evaluate(test_images, test_labels)\n",
    "print('results loss:', results3[0])\n",
    "print('results accuracy:', results3[1])"
   ]
  },
  {
   "cell_type": "markdown",
   "metadata": {},
   "source": [
    "### Ver el historial de desempeño de la red"
   ]
  },
  {
   "cell_type": "code",
   "execution_count": 13,
   "metadata": {},
   "outputs": [
    {
     "data": {
      "text/plain": [
       "dict_keys(['loss', 'accuracy', 'val_loss', 'val_accuracy'])"
      ]
     },
     "execution_count": 13,
     "metadata": {},
     "output_type": "execute_result"
    }
   ],
   "source": [
    "history_dict = history3.history\n",
    "history_dict.keys()"
   ]
  },
  {
   "cell_type": "code",
   "execution_count": 15,
   "metadata": {},
   "outputs": [
    {
     "data": {
      "image/png": "[encoded data removed]",
      "text/plain": [
       "<Figure size 720x360 with 2 Axes>"
      ]
     },
     "metadata": {
      "needs_background": "light"
     },
     "output_type": "display_data"
    }
   ],
   "source": [
    "acc = history3.history['accuracy']\n",
    "val_acc = history3.history['val_accuracy']\n",
    "loss = history3.history['loss']\n",
    "val_loss = history3.history['val_loss']\n",
    "\n",
    "epochs = range(1, len(acc)+1)\n",
    "\n",
    "# figure\n",
    "plt.figure(figsize=(10,5))\n",
    "plt.subplot(1,2,1)\n",
    "plt.plot(epochs, loss, 'bo', label='Training loss')\n",
    "plt.plot(epochs, val_loss, 'b', label='Validation loss')\n",
    "plt.title('Training and validation loss')\n",
    "plt.xlabel('Epochs')\n",
    "plt.ylabel('Loss')\n",
    "plt.legend()\n",
    "plt.subplot(1,2,2)\n",
    "plt.plot(epochs, acc, 'ro', label='Training accuracy')\n",
    "plt.plot(epochs, val_acc, 'r', label='Validation accuracy')\n",
    "plt.title('Training and validation accuracy')\n",
    "plt.xlabel('Epochs')\n",
    "plt.ylabel('Accuracy')\n",
    "plt.legend()\n",
    "plt.show()"
   ]
  },
  {
   "cell_type": "markdown",
   "metadata": {},
   "source": [
    "### Resultados"
   ]
  },
  {
   "cell_type": "code",
   "execution_count": null,
   "metadata": {},
   "outputs": [],
   "source": [
    "pred3 = network3.predict(test_images)\n",
    "predictions3 = np.argmax(pred3, 1)\n",
    "test_labs = np.argmax(test_labels, 1)"
   ]
  },
  {
   "cell_type": "code",
   "execution_count": null,
   "metadata": {},
   "outputs": [],
   "source": [
    "conf_matrix3 = ConfusionMatrix(test_labs, predictions3)\n",
    "print(conf_matrix3)"
   ]
  },
  {
   "cell_type": "code",
   "execution_count": null,
   "metadata": {},
   "outputs": [],
   "source": [
    "# plot confusion matrix\n",
    "CM3 = conf_matrix3.to_array()\n",
    "cf3 = DataFrame(CM3)\n",
    "pretty_plot_confusion_matrix(cf3, annot=True, pred_val_axis='x', figsize=(10,10))"
   ]
  },
  {
   "cell_type": "code",
   "execution_count": null,
   "metadata": {},
   "outputs": [],
   "source": [
    "# other plot\n",
    "PlotMatrix(CM3, figsize=(10,10), cmap=plt.cm.Blues, title='Confusion Matrix')"
   ]
  },
  {
   "cell_type": "markdown",
   "metadata": {
    "collapsed": true
   },
   "source": [
    "---\n",
    "\n",
    "---"
   ]
  }
 ],
 "metadata": {
  "kernelspec": {
   "display_name": "Python 3",
   "language": "python",
   "name": "python3"
  },
  "language_info": {
   "codemirror_mode": {
    "name": "ipython",
    "version": 3
   },
   "file_extension": ".py",
   "mimetype": "text/x-python",
   "name": "python",
   "nbconvert_exporter": "python",
   "pygments_lexer": "ipython3",
   "version": "3.6.13"
  }
 },
 "nbformat": 4,
 "nbformat_minor": 2
}
